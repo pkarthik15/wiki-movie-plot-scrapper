{
  "nbformat": 4,
  "nbformat_minor": 0,
  "metadata": {
    "colab": {
      "provenance": []
    },
    "kernelspec": {
      "name": "python3",
      "display_name": "Python 3"
    },
    "language_info": {
      "name": "python"
    }
  },
  "cells": [
    {
      "cell_type": "markdown",
      "source": [
        "# Data Scrapping from Wikipedia - American Movies List from 2005 - 2021"
      ],
      "metadata": {
        "id": "4GBS8N0UE1Yp"
      }
    },
    {
      "cell_type": "code",
      "execution_count": 1,
      "metadata": {
        "id": "ZwUZwvT1EsUX"
      },
      "outputs": [],
      "source": [
        "import os\n",
        "import time\n",
        "import re\n",
        "import json\n",
        "import numpy as np\n",
        "import pandas as pd\n",
        "import requests\n",
        "import urllib.request\n",
        "from urllib.request import urlopen\n",
        "from bs4 import BeautifulSoup"
      ]
    },
    {
      "cell_type": "code",
      "source": [
        "base_url = 'https://en.wikipedia.org'\n",
        "movies_base = '/wiki/List_of_American_films_of_'"
      ],
      "metadata": {
        "id": "29VNJleQFfm1"
      },
      "execution_count": 2,
      "outputs": []
    },
    {
      "cell_type": "code",
      "source": [
        "def create_json(json_dict, file_name):\n",
        "    json_string = json.dumps(json_dict, indent=4)\n",
        "    with open(F\"./{file_name}.json\", \"w\") as outfile:\n",
        "        outfile.write(json_string)"
      ],
      "metadata": {
        "id": "uKv-BuodKzbv"
      },
      "execution_count": 3,
      "outputs": []
    },
    {
      "cell_type": "code",
      "source": [
        "def get_all_page_links(url):\n",
        "    year_links = [base_url + movies_base + str(year) for year in range(2005, 2022)]\n",
        "    return year_links"
      ],
      "metadata": {
        "id": "zlTyJeKl7h5e"
      },
      "execution_count": 4,
      "outputs": []
    },
    {
      "cell_type": "code",
      "source": [
        "def read_html_from_url(url):\n",
        "    raw_html = urlopen(url)\n",
        "    bs_page = BeautifulSoup(raw_html, 'lxml')\n",
        "    return bs_page"
      ],
      "metadata": {
        "id": "Ns6mq9Li34IJ"
      },
      "execution_count": 5,
      "outputs": []
    },
    {
      "cell_type": "code",
      "source": [
        "def extract_all_tables_from_html(bs_html, class_name=None):\n",
        "    if(class_name):\n",
        "        tables = bs_html.findAll('table', class_=class_name)\n",
        "    else:\n",
        "        tables = bs_html.findAll('table')\n",
        "    return tables"
      ],
      "metadata": {
        "id": "riHvRXfw4MuJ"
      },
      "execution_count": 6,
      "outputs": []
    },
    {
      "cell_type": "code",
      "source": [
        "def extract_plot_from_page(url):\n",
        "    plot = ''\n",
        "    bs_movie_page = read_html_from_url(url)\n",
        "    plot_header = bs_movie_page.find(id='Plot').find_parent('h2')\n",
        "    paragraph = plot_header.find_next_sibling()\n",
        "    while paragraph.name == 'p':\n",
        "        plot = plot + paragraph.text\n",
        "        paragraph = paragraph.find_next_sibling()\n",
        "    return plot"
      ],
      "metadata": {
        "id": "-RaiztC16C8L"
      },
      "execution_count": 7,
      "outputs": []
    },
    {
      "cell_type": "code",
      "source": [
        "def get_month_from_column(col, prev_month):\n",
        "    month = ''\n",
        "    month = col.text.replace(\"<br>\", \"\").replace(\"\\n\", \"\")\n",
        "    if(month == ''):\n",
        "        month = prev_month\n",
        "    \n",
        "    return month"
      ],
      "metadata": {
        "id": "zRRjoMs-b-Hq"
      },
      "execution_count": 72,
      "outputs": []
    },
    {
      "cell_type": "code",
      "source": [
        "def get_date_from_column(col, prev_date):\n",
        "    date = ''\n",
        "    date = col.text.replace(\"\\n\", \"\")\n",
        "    if(date == ''):\n",
        "        date = prev_date\n",
        "    \n",
        "    return date"
      ],
      "metadata": {
        "id": "p4D0dpbocQzI"
      },
      "execution_count": 73,
      "outputs": []
    },
    {
      "cell_type": "code",
      "source": [
        "def get_title_and_link_from_column(col):\n",
        "    title = col.i.a['title']\n",
        "    url = base_url + col.i.a['href']\n",
        "    return title, url"
      ],
      "metadata": {
        "id": "u9gEleMicief"
      },
      "execution_count": 74,
      "outputs": []
    },
    {
      "cell_type": "code",
      "source": [
        "def extract_movie_info_from_table(table, year):\n",
        "    movies_list = []\n",
        "    failed_rows = []\n",
        "    failed_count = 0\n",
        "  \n",
        "    rows = table.tbody.find_all('tr')\n",
        "\n",
        "    month = ''\n",
        "    date = ''\n",
        "\n",
        "    \n",
        "    for row in rows[1:]:\n",
        "          \n",
        "        try:\n",
        "\n",
        "            row_with_th = row.find_all('th')\n",
        "            if(len(row_with_th) > 0):\n",
        "                month = get_month_from_column(row_with_th[0], month)\n",
        "            \n",
        "            cols = row.find_all('td')  \n",
        "            b_tags = row.find_all('b')\n",
        "\n",
        "    \n",
        "            if(len(b_tags) == 2):\n",
        "                if(month != ''):\n",
        "                    date = get_date_from_column(cols[0], date)\n",
        "                    title, url =  get_title_and_link_from_column(cols[1])\n",
        "                else:\n",
        "                    month = get_month_from_column(cols[0], month)\n",
        "                    date = get_date_from_column(cols[1], date)\n",
        "                    title, url =  get_title_and_link_from_column(cols[2])\n",
        "            \n",
        "            if(len(b_tags) == 1):\n",
        "                date = get_date_from_column(cols[0], date)\n",
        "                title, url =  get_title_and_link_from_column(cols[1])\n",
        "            \n",
        "            if(len(b_tags) == 0):\n",
        "                title, url =  get_title_and_link_from_column(cols[0])\n",
        "\n",
        "\n",
        "            print(month, date, title, url)\n",
        "           \n",
        "            plot = extract_plot_from_page(url)\n",
        "                \n",
        "            movie_detail = {\n",
        "                \"Year\" : year,\n",
        "                \"Month\" : month,\n",
        "                \"Date\" : date,\n",
        "                \"Title\": title,\n",
        "                \"URL\" : url,\n",
        "                \"Plot\": plot\n",
        "            }  \n",
        "               \n",
        "            movies_list.append(movie_detail)\n",
        "\n",
        "        except:\n",
        "            failed_count = failed_count + 1\n",
        "            failed_rows.append(row)\n",
        "    return movies_list, failed_rows, failed_count"
      ],
      "metadata": {
        "id": "Qn6q0rt34-mX"
      },
      "execution_count": 282,
      "outputs": []
    },
    {
      "cell_type": "code",
      "source": [
        "movies_list = []\n",
        "failed_rows = []\n",
        "failed_count = 0\n",
        "\n",
        "movie_urls = get_all_page_links(f\"{base_url + movies_base}\")\n",
        "for url in movie_urls:\n",
        "    html = read_html_from_url(url)\n",
        "    year = url[-4:]\n",
        "    print(year)\n",
        "    tables = extract_all_tables_from_html(html, class_name=\"wikitable sortable\")\n",
        "    for table in tables:\n",
        "        movies, failed, failedcount = extract_movie_info_from_table(table, year)\n",
        "        movies_list.extend(movies)\n",
        "        failed_rows.extend(failed)\n",
        "        failed_count = failed_count + failedcount\n",
        "create_json(movies_list, \"movie_list\")\n",
        "# create_json(failed_rows, \"failed_drows\")"
      ],
      "metadata": {
        "id": "_TIKAqia3FsW"
      },
      "execution_count": null,
      "outputs": []
    },
    {
      "cell_type": "code",
      "source": [
        "failed_count"
      ],
      "metadata": {
        "id": "Em4G9O_m8cgP",
        "colab": {
          "base_uri": "https://localhost:8080/"
        },
        "outputId": "c4e033f3-8017-4323-8857-ebea2d66f0ed"
      },
      "execution_count": 284,
      "outputs": [
        {
          "output_type": "execute_result",
          "data": {
            "text/plain": [
              "464"
            ]
          },
          "metadata": {},
          "execution_count": 284
        }
      ]
    },
    {
      "cell_type": "code",
      "source": [
        "len(movies_list)"
      ],
      "metadata": {
        "colab": {
          "base_uri": "https://localhost:8080/"
        },
        "id": "NuexcK_ZQUww",
        "outputId": "7c712448-40a4-4fd0-b7c9-e96c6f8da126"
      },
      "execution_count": 285,
      "outputs": [
        {
          "output_type": "execute_result",
          "data": {
            "text/plain": [
              "3985"
            ]
          },
          "metadata": {},
          "execution_count": 285
        }
      ]
    },
    {
      "cell_type": "code",
      "source": [],
      "metadata": {
        "id": "pBo90TT5XkkD"
      },
      "execution_count": null,
      "outputs": []
    }
  ]
}